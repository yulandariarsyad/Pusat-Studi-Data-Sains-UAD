{
  "nbformat": 4,
  "nbformat_minor": 0,
  "metadata": {
    "colab": {
      "name": "Modul 4 DataFrame Bagian 2",
      "provenance": [],
      "collapsed_sections": [],
      "include_colab_link": true
    },
    "kernelspec": {
      "name": "python3",
      "display_name": "Python 3"
    }
  },
  "cells": [
    {
      "cell_type": "markdown",
      "metadata": {
        "id": "view-in-github",
        "colab_type": "text"
      },
      "source": [
        "<a href=\"https://colab.research.google.com/github/yulandariarsyad/Pusat-Studi-Data-Sains-UAD/blob/main/Modul_4_DataFrame_Bagian_2.ipynb\" target=\"_parent\"><img src=\"https://colab.research.google.com/assets/colab-badge.svg\" alt=\"Open In Colab\"/></a>"
      ]
    },
    {
      "cell_type": "markdown",
      "metadata": {
        "id": "m8C87vPQCiDx"
      },
      "source": [
        "![alt text] (https://drive.google.com/file/d/1rDKM3AHLEvjANy4k9_oCmTuvqx4gZxne/view?usp=sharing)"
      ]
    },
    {
      "cell_type": "markdown",
      "metadata": {
        "id": "MtuX2T8Q6TUY"
      },
      "source": [
        "# **Pembahasan :**\n",
        "1. Memahami beberapa Fungsi yang ada pada Pandas DataFrame\n",
        "2. Cara mengecek Missing Value dan NaN\n",
        "3. Cara melihat mean/median/ std per kolom\n",
        "4. Cara melihat jumah data dalam kolom dengan kriteria, misal kolom B=1"
      ]
    },
    {
      "cell_type": "markdown",
      "metadata": {
        "id": "ttxOulJdy8lM"
      },
      "source": [
        "#**Memahami Beberapa Fungsi pada Pandas DataFrame**"
      ]
    },
    {
      "cell_type": "markdown",
      "metadata": {
        "id": "NRkw_1UYQpR9"
      },
      "source": [
        "Pada kesempatan kali ini fungsi yang akan kita bahas ada 4, \n",
        "yaitu : \n",
        "1. Fungsi info()\n",
        "2. Fungsi describe()\n",
        "3. Fungsi count()\n",
        "4. Fungsi value_counts()"
      ]
    },
    {
      "cell_type": "markdown",
      "metadata": {
        "id": "ckdzSP295Moj"
      },
      "source": [
        "Sebelum masuk ke pembahasan utama kita buat DataFrame sederhana berupa Dictionary terlebih dahulu\n",
        "\n",
        "Misal :"
      ]
    },
    {
      "cell_type": "code",
      "metadata": {
        "colab": {
          "base_uri": "https://localhost:8080/",
          "height": 235
        },
        "id": "PimPNtc49t1s",
        "outputId": "78ec6eab-ee54-429c-c684-706d1d3e4ab5"
      },
      "source": [
        "import pandas as pd\n",
        "\n",
        "#membuat DataFrame\n",
        "data = {'Nama': ['Putra', 'Putra', 'Putra', 'Siti', 'Siti', 'Siti' ], \n",
        "        'Semester': [1, 2, 3, 1, 2, 3],\n",
        "        'IPK': [2.95, 3.20, 3.50, 3.10, 3.34, 3.50]}\n",
        "df = pd.DataFrame(data)\n",
        "df"
      ],
      "execution_count": null,
      "outputs": [
        {
          "output_type": "execute_result",
          "data": {
            "text/html": [
              "<div>\n",
              "<style scoped>\n",
              "    .dataframe tbody tr th:only-of-type {\n",
              "        vertical-align: middle;\n",
              "    }\n",
              "\n",
              "    .dataframe tbody tr th {\n",
              "        vertical-align: top;\n",
              "    }\n",
              "\n",
              "    .dataframe thead th {\n",
              "        text-align: right;\n",
              "    }\n",
              "</style>\n",
              "<table border=\"1\" class=\"dataframe\">\n",
              "  <thead>\n",
              "    <tr style=\"text-align: right;\">\n",
              "      <th></th>\n",
              "      <th>Nama</th>\n",
              "      <th>Semester</th>\n",
              "      <th>IPK</th>\n",
              "    </tr>\n",
              "  </thead>\n",
              "  <tbody>\n",
              "    <tr>\n",
              "      <th>0</th>\n",
              "      <td>Putra</td>\n",
              "      <td>1</td>\n",
              "      <td>2.95</td>\n",
              "    </tr>\n",
              "    <tr>\n",
              "      <th>1</th>\n",
              "      <td>Putra</td>\n",
              "      <td>2</td>\n",
              "      <td>3.20</td>\n",
              "    </tr>\n",
              "    <tr>\n",
              "      <th>2</th>\n",
              "      <td>Putra</td>\n",
              "      <td>3</td>\n",
              "      <td>3.50</td>\n",
              "    </tr>\n",
              "    <tr>\n",
              "      <th>3</th>\n",
              "      <td>Siti</td>\n",
              "      <td>1</td>\n",
              "      <td>3.10</td>\n",
              "    </tr>\n",
              "    <tr>\n",
              "      <th>4</th>\n",
              "      <td>Siti</td>\n",
              "      <td>2</td>\n",
              "      <td>3.34</td>\n",
              "    </tr>\n",
              "    <tr>\n",
              "      <th>5</th>\n",
              "      <td>Siti</td>\n",
              "      <td>3</td>\n",
              "      <td>3.50</td>\n",
              "    </tr>\n",
              "  </tbody>\n",
              "</table>\n",
              "</div>"
            ],
            "text/plain": [
              "    Nama  Semester   IPK\n",
              "0  Putra         1  2.95\n",
              "1  Putra         2  3.20\n",
              "2  Putra         3  3.50\n",
              "3   Siti         1  3.10\n",
              "4   Siti         2  3.34\n",
              "5   Siti         3  3.50"
            ]
          },
          "metadata": {
            "tags": []
          },
          "execution_count": 6
        }
      ]
    },
    {
      "cell_type": "markdown",
      "metadata": {
        "id": "hKrSu51XXZf9"
      },
      "source": [
        "##**Fungsi info()**"
      ]
    },
    {
      "cell_type": "markdown",
      "metadata": {
        "id": "-XCGsOR3QYWX"
      },
      "source": [
        "Fungsi info() sangat berguna untuk mengetahui keterangan dari objek DataFrame yang kita buat seperti index dari DataFrame lengkap dengan range dari index, jumlah kolom beserta informasi tiap kolom untuk null data dan tipe data, dan jumlah total penggunaan memory pada tiap kolom dalam satuan bytes"
      ]
    },
    {
      "cell_type": "code",
      "metadata": {
        "colab": {
          "base_uri": "https://localhost:8080/"
        },
        "id": "7ouV-qFNYOXO",
        "outputId": "065f4f29-8dcb-46c4-f96f-c0fe63b6f377"
      },
      "source": [
        "#cek info dari DataFrame yang kita buat diatas\n",
        "df.info()"
      ],
      "execution_count": null,
      "outputs": [
        {
          "output_type": "stream",
          "text": [
            "<class 'pandas.core.frame.DataFrame'>\n",
            "RangeIndex: 6 entries, 0 to 5\n",
            "Data columns (total 3 columns):\n",
            " #   Column    Non-Null Count  Dtype  \n",
            "---  ------    --------------  -----  \n",
            " 0   Nama      6 non-null      object \n",
            " 1   Semester  6 non-null      int64  \n",
            " 2   IPK       6 non-null      float64\n",
            "dtypes: float64(1), int64(1), object(1)\n",
            "memory usage: 272.0+ bytes\n"
          ],
          "name": "stdout"
        }
      ]
    },
    {
      "cell_type": "markdown",
      "metadata": {
        "id": "aZ4W6usxY2cg"
      },
      "source": [
        "##**Fungsi describe()**"
      ]
    },
    {
      "cell_type": "markdown",
      "metadata": {
        "id": "-eeqMJMTQ1ec"
      },
      "source": [
        "Fungsi describe() untuk mengetahui data statistika deskriptif untuk setiap kolom yang bertipe data numeric seperti count, mean, standard deviation, maximum, minum, dan quartile"
      ]
    },
    {
      "cell_type": "code",
      "metadata": {
        "colab": {
          "base_uri": "https://localhost:8080/",
          "height": 297
        },
        "id": "SDZPdW65ZUJI",
        "outputId": "29a5cb3e-39ac-446f-9049-dae4481a2fac"
      },
      "source": [
        "#cek statiska data numeric\n",
        "df.describe()"
      ],
      "execution_count": null,
      "outputs": [
        {
          "output_type": "execute_result",
          "data": {
            "text/html": [
              "<div>\n",
              "<style scoped>\n",
              "    .dataframe tbody tr th:only-of-type {\n",
              "        vertical-align: middle;\n",
              "    }\n",
              "\n",
              "    .dataframe tbody tr th {\n",
              "        vertical-align: top;\n",
              "    }\n",
              "\n",
              "    .dataframe thead th {\n",
              "        text-align: right;\n",
              "    }\n",
              "</style>\n",
              "<table border=\"1\" class=\"dataframe\">\n",
              "  <thead>\n",
              "    <tr style=\"text-align: right;\">\n",
              "      <th></th>\n",
              "      <th>Semester</th>\n",
              "      <th>IPK</th>\n",
              "    </tr>\n",
              "  </thead>\n",
              "  <tbody>\n",
              "    <tr>\n",
              "      <th>count</th>\n",
              "      <td>6.000000</td>\n",
              "      <td>6.000000</td>\n",
              "    </tr>\n",
              "    <tr>\n",
              "      <th>mean</th>\n",
              "      <td>2.000000</td>\n",
              "      <td>3.265000</td>\n",
              "    </tr>\n",
              "    <tr>\n",
              "      <th>std</th>\n",
              "      <td>0.894427</td>\n",
              "      <td>0.222149</td>\n",
              "    </tr>\n",
              "    <tr>\n",
              "      <th>min</th>\n",
              "      <td>1.000000</td>\n",
              "      <td>2.950000</td>\n",
              "    </tr>\n",
              "    <tr>\n",
              "      <th>25%</th>\n",
              "      <td>1.250000</td>\n",
              "      <td>3.125000</td>\n",
              "    </tr>\n",
              "    <tr>\n",
              "      <th>50%</th>\n",
              "      <td>2.000000</td>\n",
              "      <td>3.270000</td>\n",
              "    </tr>\n",
              "    <tr>\n",
              "      <th>75%</th>\n",
              "      <td>2.750000</td>\n",
              "      <td>3.460000</td>\n",
              "    </tr>\n",
              "    <tr>\n",
              "      <th>max</th>\n",
              "      <td>3.000000</td>\n",
              "      <td>3.500000</td>\n",
              "    </tr>\n",
              "  </tbody>\n",
              "</table>\n",
              "</div>"
            ],
            "text/plain": [
              "       Semester       IPK\n",
              "count  6.000000  6.000000\n",
              "mean   2.000000  3.265000\n",
              "std    0.894427  0.222149\n",
              "min    1.000000  2.950000\n",
              "25%    1.250000  3.125000\n",
              "50%    2.000000  3.270000\n",
              "75%    2.750000  3.460000\n",
              "max    3.000000  3.500000"
            ]
          },
          "metadata": {
            "tags": []
          },
          "execution_count": 8
        }
      ]
    },
    {
      "cell_type": "markdown",
      "metadata": {
        "id": "-c0iqCCjyh4x"
      },
      "source": [
        "Jika kita ingin menampilkan data deskriptif untuk salah satu kolom saja cukup dengan menuliskan nama kolom tersebut menggunakan kurung siku"
      ]
    },
    {
      "cell_type": "code",
      "metadata": {
        "colab": {
          "base_uri": "https://localhost:8080/"
        },
        "id": "rpq-NxKZyKFY",
        "outputId": "17b2e533-f537-48db-ceaa-1a02941d107c"
      },
      "source": [
        "#misal kita ingin mengetaui data statistik dari kolom Semester\n",
        "df['Semester'].describe()"
      ],
      "execution_count": null,
      "outputs": [
        {
          "output_type": "execute_result",
          "data": {
            "text/plain": [
              "count    6.000000\n",
              "mean     2.000000\n",
              "std      0.894427\n",
              "min      1.000000\n",
              "25%      1.250000\n",
              "50%      2.000000\n",
              "75%      2.750000\n",
              "max      3.000000\n",
              "Name: Semester, dtype: float64"
            ]
          },
          "metadata": {
            "tags": []
          },
          "execution_count": 9
        }
      ]
    },
    {
      "cell_type": "markdown",
      "metadata": {
        "id": "13Se6jbkZ2xf"
      },
      "source": [
        "##**Fungsi count()**\n"
      ]
    },
    {
      "cell_type": "markdown",
      "metadata": {
        "id": "ohuD-BK3RCSe"
      },
      "source": [
        "Fungsi count() berfungsi untuk menghitung jumlah baris dari setiap kolom yang ada pada DataFrame"
      ]
    },
    {
      "cell_type": "code",
      "metadata": {
        "colab": {
          "base_uri": "https://localhost:8080/"
        },
        "id": "JEItXzMOctPi",
        "outputId": "c4977f8f-5953-4522-ced4-11942448aba7"
      },
      "source": [
        "#cek jumlah baris pada setiap kolom\n",
        "df.count()"
      ],
      "execution_count": null,
      "outputs": [
        {
          "output_type": "execute_result",
          "data": {
            "text/plain": [
              "Nama        6\n",
              "Semester    6\n",
              "IPK         6\n",
              "dtype: int64"
            ]
          },
          "metadata": {
            "tags": []
          },
          "execution_count": 10
        }
      ]
    },
    {
      "cell_type": "markdown",
      "metadata": {
        "id": "j4a8IIwyRSaQ"
      },
      "source": [
        "Jika kita ingin mengitung jumlah baris pada salah satu kolom saja cukup dengan menuliskan nama kolom tersebut menggunakan kurung siku"
      ]
    },
    {
      "cell_type": "code",
      "metadata": {
        "colab": {
          "base_uri": "https://localhost:8080/"
        },
        "id": "TPjkhVcLRuz5",
        "outputId": "20fc4786-0061-4adc-9989-4e8557a7fb35"
      },
      "source": [
        "#misal kita ingin menghitung jumlah baris pada kolom IPK\n",
        "df['IPK'].count()"
      ],
      "execution_count": null,
      "outputs": [
        {
          "output_type": "execute_result",
          "data": {
            "text/plain": [
              "6"
            ]
          },
          "metadata": {
            "tags": []
          },
          "execution_count": 11
        }
      ]
    },
    {
      "cell_type": "markdown",
      "metadata": {
        "id": "MDJmSbhNc2Jo"
      },
      "source": [
        "##**Fungsi value_counts()**"
      ]
    },
    {
      "cell_type": "markdown",
      "metadata": {
        "id": "NqtZNfNw7YYK"
      },
      "source": [
        "Fungsi value_count berfungsi untuk mendapatkan seri yang berisi jumlah nilai unik. objek yang dihasilkan akan berada dalam urutan menurun sehingga elemen pertama adalah elemen paling sering muncul"
      ]
    },
    {
      "cell_type": "code",
      "metadata": {
        "colab": {
          "base_uri": "https://localhost:8080/"
        },
        "id": "_jVLAFMAryCV",
        "outputId": "77625790-ac84-4d1f-e130-c781822dc7bc"
      },
      "source": [
        "#cek value counts nya\n",
        "df.value_counts()"
      ],
      "execution_count": null,
      "outputs": [
        {
          "output_type": "execute_result",
          "data": {
            "text/plain": [
              "Nama   Semester  IPK \n",
              "Siti   3         3.50    1\n",
              "       2         3.34    1\n",
              "       1         3.10    1\n",
              "Putra  3         3.50    1\n",
              "       2         3.20    1\n",
              "       1         2.95    1\n",
              "dtype: int64"
            ]
          },
          "metadata": {
            "tags": []
          },
          "execution_count": 12
        }
      ]
    },
    {
      "cell_type": "markdown",
      "metadata": {
        "id": "QbdVlYaS8LOg"
      },
      "source": [
        "Jika kita ingin mendapatkan seri yang berisi jumlah nilai unik pada salah satu kolom saja cukup dengan menuliskan nama kolom tersebut menggunakan kurung siku"
      ]
    },
    {
      "cell_type": "code",
      "metadata": {
        "colab": {
          "base_uri": "https://localhost:8080/"
        },
        "id": "I2kV3zLN8bsI",
        "outputId": "69e4320b-d131-491d-9dcd-29993c405587"
      },
      "source": [
        "#misal kita coba pada kolom IPK\n",
        "df['IPK'].value_counts()"
      ],
      "execution_count": null,
      "outputs": [
        {
          "output_type": "execute_result",
          "data": {
            "text/plain": [
              "3.50    2\n",
              "2.95    1\n",
              "3.34    1\n",
              "3.10    1\n",
              "3.20    1\n",
              "Name: IPK, dtype: int64"
            ]
          },
          "metadata": {
            "tags": []
          },
          "execution_count": 13
        }
      ]
    },
    {
      "cell_type": "markdown",
      "metadata": {
        "id": "VrELhmAFV-4J"
      },
      "source": [
        "#**Mengecek Missing Value dan NaN**"
      ]
    },
    {
      "cell_type": "code",
      "metadata": {
        "colab": {
          "base_uri": "https://localhost:8080/"
        },
        "id": "pY9IOwe6axXf",
        "outputId": "33854991-9355-4ee6-b09c-8d3462f26917"
      },
      "source": [
        "# Membuat DataFrame\n",
        "\n",
        "import pandas as pd\n",
        "import numpy as np\n",
        "\n",
        "data = {\n",
        "    'Nama' : ['Esa','Rena','Tia','Dino','Ita','Via','Osi','Bian','Sasa','Gea'],\n",
        "    'Gender' : [np.nan,'P','P','L',np.nan,'P','P','L','P','P'],\n",
        "    'Usia' : [21,20,20,np.nan,21,22,20,np.nan,20,np.nan],\n",
        "    'Berat Badan' : [39,38,41,np.nan,50,53,44,np.nan,48,41],\n",
        "    'Tinggi Badan' : [158,np.nan,163,157,168,160,np.nan,170,np.nan,160]\n",
        "}\n",
        "\n",
        "data = pd.DataFrame(data,columns=['Nama','Gender','Usia','Berat Badan','Tinggi Badan'])\n",
        "print(data)\n"
      ],
      "execution_count": null,
      "outputs": [
        {
          "output_type": "stream",
          "text": [
            "   Nama Gender  Usia  Berat Badan  Tinggi Badan\n",
            "0   Esa    NaN  21.0         39.0         158.0\n",
            "1  Rena      P  20.0         38.0           NaN\n",
            "2   Tia      P  20.0         41.0         163.0\n",
            "3  Dino      L   NaN          NaN         157.0\n",
            "4   Ita    NaN  21.0         50.0         168.0\n",
            "5   Via      P  22.0         53.0         160.0\n",
            "6   Osi      P  20.0         44.0           NaN\n",
            "7  Bian      L   NaN          NaN         170.0\n",
            "8  Sasa      P  20.0         48.0           NaN\n",
            "9   Gea      P   NaN         41.0         160.0\n"
          ],
          "name": "stdout"
        }
      ]
    },
    {
      "cell_type": "markdown",
      "metadata": {
        "id": "Xy597l8KuwOQ"
      },
      "source": [
        "Pada Python Pandas memungkinkan kita untuk menemukan missing value seacara cepat dan tepat pada data, dapat menggunakan fungsi isnull() atau isna()"
      ]
    },
    {
      "cell_type": "code",
      "metadata": {
        "colab": {
          "base_uri": "https://localhost:8080/",
          "height": 359
        },
        "id": "ETHdVKACu2UZ",
        "outputId": "b97c71da-264e-41b9-d786-462688b35467"
      },
      "source": [
        "# Mengecek missing value secara keseluruhan menggunakan fungsi isnull()\n",
        "data.isnull()"
      ],
      "execution_count": null,
      "outputs": [
        {
          "output_type": "execute_result",
          "data": {
            "text/html": [
              "<div>\n",
              "<style scoped>\n",
              "    .dataframe tbody tr th:only-of-type {\n",
              "        vertical-align: middle;\n",
              "    }\n",
              "\n",
              "    .dataframe tbody tr th {\n",
              "        vertical-align: top;\n",
              "    }\n",
              "\n",
              "    .dataframe thead th {\n",
              "        text-align: right;\n",
              "    }\n",
              "</style>\n",
              "<table border=\"1\" class=\"dataframe\">\n",
              "  <thead>\n",
              "    <tr style=\"text-align: right;\">\n",
              "      <th></th>\n",
              "      <th>Nama</th>\n",
              "      <th>Gender</th>\n",
              "      <th>Usia</th>\n",
              "      <th>Berat Badan</th>\n",
              "      <th>Tinggi Badan</th>\n",
              "    </tr>\n",
              "  </thead>\n",
              "  <tbody>\n",
              "    <tr>\n",
              "      <th>0</th>\n",
              "      <td>False</td>\n",
              "      <td>True</td>\n",
              "      <td>False</td>\n",
              "      <td>False</td>\n",
              "      <td>False</td>\n",
              "    </tr>\n",
              "    <tr>\n",
              "      <th>1</th>\n",
              "      <td>False</td>\n",
              "      <td>False</td>\n",
              "      <td>False</td>\n",
              "      <td>False</td>\n",
              "      <td>True</td>\n",
              "    </tr>\n",
              "    <tr>\n",
              "      <th>2</th>\n",
              "      <td>False</td>\n",
              "      <td>False</td>\n",
              "      <td>False</td>\n",
              "      <td>False</td>\n",
              "      <td>False</td>\n",
              "    </tr>\n",
              "    <tr>\n",
              "      <th>3</th>\n",
              "      <td>False</td>\n",
              "      <td>False</td>\n",
              "      <td>True</td>\n",
              "      <td>True</td>\n",
              "      <td>False</td>\n",
              "    </tr>\n",
              "    <tr>\n",
              "      <th>4</th>\n",
              "      <td>False</td>\n",
              "      <td>True</td>\n",
              "      <td>False</td>\n",
              "      <td>False</td>\n",
              "      <td>False</td>\n",
              "    </tr>\n",
              "    <tr>\n",
              "      <th>5</th>\n",
              "      <td>False</td>\n",
              "      <td>False</td>\n",
              "      <td>False</td>\n",
              "      <td>False</td>\n",
              "      <td>False</td>\n",
              "    </tr>\n",
              "    <tr>\n",
              "      <th>6</th>\n",
              "      <td>False</td>\n",
              "      <td>False</td>\n",
              "      <td>False</td>\n",
              "      <td>False</td>\n",
              "      <td>True</td>\n",
              "    </tr>\n",
              "    <tr>\n",
              "      <th>7</th>\n",
              "      <td>False</td>\n",
              "      <td>False</td>\n",
              "      <td>True</td>\n",
              "      <td>True</td>\n",
              "      <td>False</td>\n",
              "    </tr>\n",
              "    <tr>\n",
              "      <th>8</th>\n",
              "      <td>False</td>\n",
              "      <td>False</td>\n",
              "      <td>False</td>\n",
              "      <td>False</td>\n",
              "      <td>True</td>\n",
              "    </tr>\n",
              "    <tr>\n",
              "      <th>9</th>\n",
              "      <td>False</td>\n",
              "      <td>False</td>\n",
              "      <td>True</td>\n",
              "      <td>False</td>\n",
              "      <td>False</td>\n",
              "    </tr>\n",
              "  </tbody>\n",
              "</table>\n",
              "</div>"
            ],
            "text/plain": [
              "    Nama  Gender   Usia  Berat Badan  Tinggi Badan\n",
              "0  False    True  False        False         False\n",
              "1  False   False  False        False          True\n",
              "2  False   False  False        False         False\n",
              "3  False   False   True         True         False\n",
              "4  False    True  False        False         False\n",
              "5  False   False  False        False         False\n",
              "6  False   False  False        False          True\n",
              "7  False   False   True         True         False\n",
              "8  False   False  False        False          True\n",
              "9  False   False   True        False         False"
            ]
          },
          "metadata": {
            "tags": []
          },
          "execution_count": 15
        }
      ]
    },
    {
      "cell_type": "code",
      "metadata": {
        "colab": {
          "base_uri": "https://localhost:8080/",
          "height": 359
        },
        "id": "lIONsM1Iw8jV",
        "outputId": "6131792c-16d8-4991-eb90-6b9a4f303a15"
      },
      "source": [
        "# Mengecek menggunakan fungsi isna()\n",
        "data.isna()"
      ],
      "execution_count": null,
      "outputs": [
        {
          "output_type": "execute_result",
          "data": {
            "text/html": [
              "<div>\n",
              "<style scoped>\n",
              "    .dataframe tbody tr th:only-of-type {\n",
              "        vertical-align: middle;\n",
              "    }\n",
              "\n",
              "    .dataframe tbody tr th {\n",
              "        vertical-align: top;\n",
              "    }\n",
              "\n",
              "    .dataframe thead th {\n",
              "        text-align: right;\n",
              "    }\n",
              "</style>\n",
              "<table border=\"1\" class=\"dataframe\">\n",
              "  <thead>\n",
              "    <tr style=\"text-align: right;\">\n",
              "      <th></th>\n",
              "      <th>Nama</th>\n",
              "      <th>Gender</th>\n",
              "      <th>Usia</th>\n",
              "      <th>Berat Badan</th>\n",
              "      <th>Tinggi Badan</th>\n",
              "    </tr>\n",
              "  </thead>\n",
              "  <tbody>\n",
              "    <tr>\n",
              "      <th>0</th>\n",
              "      <td>False</td>\n",
              "      <td>True</td>\n",
              "      <td>False</td>\n",
              "      <td>False</td>\n",
              "      <td>False</td>\n",
              "    </tr>\n",
              "    <tr>\n",
              "      <th>1</th>\n",
              "      <td>False</td>\n",
              "      <td>False</td>\n",
              "      <td>False</td>\n",
              "      <td>False</td>\n",
              "      <td>True</td>\n",
              "    </tr>\n",
              "    <tr>\n",
              "      <th>2</th>\n",
              "      <td>False</td>\n",
              "      <td>False</td>\n",
              "      <td>False</td>\n",
              "      <td>False</td>\n",
              "      <td>False</td>\n",
              "    </tr>\n",
              "    <tr>\n",
              "      <th>3</th>\n",
              "      <td>False</td>\n",
              "      <td>False</td>\n",
              "      <td>True</td>\n",
              "      <td>True</td>\n",
              "      <td>False</td>\n",
              "    </tr>\n",
              "    <tr>\n",
              "      <th>4</th>\n",
              "      <td>False</td>\n",
              "      <td>True</td>\n",
              "      <td>False</td>\n",
              "      <td>False</td>\n",
              "      <td>False</td>\n",
              "    </tr>\n",
              "    <tr>\n",
              "      <th>5</th>\n",
              "      <td>False</td>\n",
              "      <td>False</td>\n",
              "      <td>False</td>\n",
              "      <td>False</td>\n",
              "      <td>False</td>\n",
              "    </tr>\n",
              "    <tr>\n",
              "      <th>6</th>\n",
              "      <td>False</td>\n",
              "      <td>False</td>\n",
              "      <td>False</td>\n",
              "      <td>False</td>\n",
              "      <td>True</td>\n",
              "    </tr>\n",
              "    <tr>\n",
              "      <th>7</th>\n",
              "      <td>False</td>\n",
              "      <td>False</td>\n",
              "      <td>True</td>\n",
              "      <td>True</td>\n",
              "      <td>False</td>\n",
              "    </tr>\n",
              "    <tr>\n",
              "      <th>8</th>\n",
              "      <td>False</td>\n",
              "      <td>False</td>\n",
              "      <td>False</td>\n",
              "      <td>False</td>\n",
              "      <td>True</td>\n",
              "    </tr>\n",
              "    <tr>\n",
              "      <th>9</th>\n",
              "      <td>False</td>\n",
              "      <td>False</td>\n",
              "      <td>True</td>\n",
              "      <td>False</td>\n",
              "      <td>False</td>\n",
              "    </tr>\n",
              "  </tbody>\n",
              "</table>\n",
              "</div>"
            ],
            "text/plain": [
              "    Nama  Gender   Usia  Berat Badan  Tinggi Badan\n",
              "0  False    True  False        False         False\n",
              "1  False   False  False        False          True\n",
              "2  False   False  False        False         False\n",
              "3  False   False   True         True         False\n",
              "4  False    True  False        False         False\n",
              "5  False   False  False        False         False\n",
              "6  False   False  False        False          True\n",
              "7  False   False   True         True         False\n",
              "8  False   False  False        False          True\n",
              "9  False   False   True        False         False"
            ]
          },
          "metadata": {
            "tags": []
          },
          "execution_count": 16
        }
      ]
    },
    {
      "cell_type": "code",
      "metadata": {
        "colab": {
          "base_uri": "https://localhost:8080/"
        },
        "id": "O37u77XEvbDt",
        "outputId": "b76751cc-8aa5-4756-9614-4b0f6af3145b"
      },
      "source": [
        "# Mengecek missing value di setiap kolom\n",
        "data.isnull().any()"
      ],
      "execution_count": null,
      "outputs": [
        {
          "output_type": "execute_result",
          "data": {
            "text/plain": [
              "Nama            False\n",
              "Gender           True\n",
              "Usia             True\n",
              "Berat Badan      True\n",
              "Tinggi Badan     True\n",
              "dtype: bool"
            ]
          },
          "metadata": {
            "tags": []
          },
          "execution_count": 17
        }
      ]
    },
    {
      "cell_type": "markdown",
      "metadata": {
        "id": "Cb4uVDa8zjMH"
      },
      "source": [
        "Kita dapat mengetahui jumlah data yang missing value dari ke seluruhan data."
      ]
    },
    {
      "cell_type": "code",
      "metadata": {
        "colab": {
          "base_uri": "https://localhost:8080/"
        },
        "id": "03jcIeihz0ED",
        "outputId": "c99d5f75-29fb-46eb-c317-dd64aae6b277"
      },
      "source": [
        "data.isnull().sum().sum()"
      ],
      "execution_count": null,
      "outputs": [
        {
          "output_type": "execute_result",
          "data": {
            "text/plain": [
              "10"
            ]
          },
          "metadata": {
            "tags": []
          },
          "execution_count": 18
        }
      ]
    },
    {
      "cell_type": "markdown",
      "metadata": {
        "id": "JEw5dw8oxXVD"
      },
      "source": [
        "Kita juga dapat mengetahui jumlah missing value setiap kolom dengan menggunakan 3 metode :\n",
        "- Menggunakan fungsi isnull() serta sum()\n",
        "- Menggunakan fungsi isna() serta sum()\n",
        "- Menggunakan fungsi len() serta count()"
      ]
    },
    {
      "cell_type": "code",
      "metadata": {
        "colab": {
          "base_uri": "https://localhost:8080/"
        },
        "id": "XiwWFgtrxoeI",
        "outputId": "73285bdc-6078-4d53-e999-acdaa10155a8"
      },
      "source": [
        "# Menggunakan fungsi isnull() serta sum()\n",
        "data.isnull().sum()"
      ],
      "execution_count": null,
      "outputs": [
        {
          "output_type": "execute_result",
          "data": {
            "text/plain": [
              "Nama            0\n",
              "Gender          2\n",
              "Usia            3\n",
              "Berat Badan     2\n",
              "Tinggi Badan    3\n",
              "dtype: int64"
            ]
          },
          "metadata": {
            "tags": []
          },
          "execution_count": 19
        }
      ]
    },
    {
      "cell_type": "code",
      "metadata": {
        "colab": {
          "base_uri": "https://localhost:8080/"
        },
        "id": "MPHXWFHNzKOS",
        "outputId": "78e0f81f-a0aa-498b-feff-178621d4f8f1"
      },
      "source": [
        "# Menggunakan fungsi isna() serta sum()\n",
        "data.isna().sum()"
      ],
      "execution_count": null,
      "outputs": [
        {
          "output_type": "execute_result",
          "data": {
            "text/plain": [
              "Nama            0\n",
              "Gender          2\n",
              "Usia            3\n",
              "Berat Badan     2\n",
              "Tinggi Badan    3\n",
              "dtype: int64"
            ]
          },
          "metadata": {
            "tags": []
          },
          "execution_count": 20
        }
      ]
    },
    {
      "cell_type": "code",
      "metadata": {
        "colab": {
          "base_uri": "https://localhost:8080/"
        },
        "id": "_gtelqKAxnXT",
        "outputId": "d8443533-ca50-42e8-dbea-8049a922b314"
      },
      "source": [
        "# Menggunakan fungsi len() serta fungsi count()\n",
        "count_nan = len(data) - data.count()\n",
        "count_nan"
      ],
      "execution_count": null,
      "outputs": [
        {
          "output_type": "execute_result",
          "data": {
            "text/plain": [
              "Nama            0\n",
              "Gender          2\n",
              "Usia            3\n",
              "Berat Badan     2\n",
              "Tinggi Badan    3\n",
              "dtype: int64"
            ]
          },
          "metadata": {
            "tags": []
          },
          "execution_count": 21
        }
      ]
    },
    {
      "cell_type": "markdown",
      "metadata": {
        "id": "7IqRbLHG1KSL"
      },
      "source": [
        "Dan untuk mengetahui jumlah missing value dari setiap baris dapat menggunakan 2 metode :\n",
        "- Menggunakan fungsi isnull() serta sum() dengan axis = 1\n",
        "- Menggunakan fungsi isnull() serta sum() dengan for loop"
      ]
    },
    {
      "cell_type": "code",
      "metadata": {
        "colab": {
          "base_uri": "https://localhost:8080/"
        },
        "id": "Pxj5qa1G1Dp5",
        "outputId": "448a8fae-ec67-4377-ac3f-6e3cf47f632f"
      },
      "source": [
        "#Menggunakan fungsi isnull() serta sum() dengan axis = 1\n",
        "data.isnull().sum(axis = 1)"
      ],
      "execution_count": null,
      "outputs": [
        {
          "output_type": "execute_result",
          "data": {
            "text/plain": [
              "0    1\n",
              "1    1\n",
              "2    0\n",
              "3    2\n",
              "4    1\n",
              "5    0\n",
              "6    1\n",
              "7    2\n",
              "8    1\n",
              "9    1\n",
              "dtype: int64"
            ]
          },
          "metadata": {
            "tags": []
          },
          "execution_count": 22
        }
      ]
    },
    {
      "cell_type": "code",
      "metadata": {
        "colab": {
          "base_uri": "https://localhost:8080/"
        },
        "id": "_54qcA0e1c8z",
        "outputId": "06a956d1-abaf-40b3-ffa9-966ebe056d05"
      },
      "source": [
        "# Menggunakan fungsi isnull() serta sum() dengan for loop\n",
        "for i in range(len(data.index)) :\n",
        "    print(\"NaN in row \", i , \" : \" ,  data.iloc[i].isnull().sum())\n"
      ],
      "execution_count": null,
      "outputs": [
        {
          "output_type": "stream",
          "text": [
            "NaN in row  0  :  1\n",
            "NaN in row  1  :  1\n",
            "NaN in row  2  :  0\n",
            "NaN in row  3  :  2\n",
            "NaN in row  4  :  1\n",
            "NaN in row  5  :  0\n",
            "NaN in row  6  :  1\n",
            "NaN in row  7  :  2\n",
            "NaN in row  8  :  1\n",
            "NaN in row  9  :  1\n"
          ],
          "name": "stdout"
        }
      ]
    },
    {
      "cell_type": "markdown",
      "metadata": {
        "id": "8TqH3ziQ3WZF"
      },
      "source": [
        "#**Melihat Mean / Median / Standar Deviasi per Kolom**"
      ]
    },
    {
      "cell_type": "markdown",
      "metadata": {
        "id": "4SmqeT5lM3K3"
      },
      "source": [
        "Kita gunakan contoh DataFrame sebelumnya untuk melihat mean/median/ standar deviasi"
      ]
    },
    {
      "cell_type": "markdown",
      "metadata": {
        "id": "5RjzSyIt3fKh"
      },
      "source": [
        "Untuk mencari nilai rata-rata per kolom, menggunakan fungsi mean()"
      ]
    },
    {
      "cell_type": "code",
      "metadata": {
        "colab": {
          "base_uri": "https://localhost:8080/"
        },
        "id": "9k010sgu9Wu3",
        "outputId": "f3399e85-afec-4915-b421-06743d6d1429"
      },
      "source": [
        "# Mengecek mean\n",
        "data.mean()"
      ],
      "execution_count": null,
      "outputs": [
        {
          "output_type": "execute_result",
          "data": {
            "text/plain": [
              "Usia             20.571429\n",
              "Berat Badan      44.250000\n",
              "Tinggi Badan    162.285714\n",
              "dtype: float64"
            ]
          },
          "metadata": {
            "tags": []
          },
          "execution_count": 24
        }
      ]
    },
    {
      "cell_type": "markdown",
      "metadata": {
        "id": "13pcZ2ky_hAY"
      },
      "source": [
        "Untuk mencari nilai tengah dari data per kolom, digunakan fungsi median()"
      ]
    },
    {
      "cell_type": "code",
      "metadata": {
        "colab": {
          "base_uri": "https://localhost:8080/"
        },
        "id": "hrXFd0FV_qP5",
        "outputId": "4025728b-0b87-464f-84ac-975845faec49"
      },
      "source": [
        "# Mengecek median\n",
        "data.median()"
      ],
      "execution_count": null,
      "outputs": [
        {
          "output_type": "execute_result",
          "data": {
            "text/plain": [
              "Usia             20.0\n",
              "Berat Badan      42.5\n",
              "Tinggi Badan    160.0\n",
              "dtype: float64"
            ]
          },
          "metadata": {
            "tags": []
          },
          "execution_count": 25
        }
      ]
    },
    {
      "cell_type": "markdown",
      "metadata": {
        "id": "SEmEyoK6FpFZ"
      },
      "source": [
        "Untuk mencari nilai standar deviasi per kolom dapat menggunakan fungsi std()"
      ]
    },
    {
      "cell_type": "code",
      "metadata": {
        "colab": {
          "base_uri": "https://localhost:8080/"
        },
        "id": "Sa3sGcS-_uA-",
        "outputId": "a0f83e5e-3f4b-4d99-ef44-96814f9d32ad"
      },
      "source": [
        "# Mengecek standar deviasi\n",
        "data.std()"
      ],
      "execution_count": null,
      "outputs": [
        {
          "output_type": "execute_result",
          "data": {
            "text/plain": [
              "Usia            0.786796\n",
              "Berat Badan     5.496752\n",
              "Tinggi Badan    4.990467\n",
              "dtype: float64"
            ]
          },
          "metadata": {
            "tags": []
          },
          "execution_count": 26
        }
      ]
    },
    {
      "cell_type": "markdown",
      "metadata": {
        "id": "Yw-rZSibF-HV"
      },
      "source": [
        "#**Melihat jumlah data dalam kolom dengan kriteria, misal kolom B=1**"
      ]
    },
    {
      "cell_type": "markdown",
      "metadata": {
        "id": "GcJeBqIrNfN9"
      },
      "source": [
        "Kita gunakan contoh DataFrame sebelumnya untuk melihat jumlah data dalam kolom dengan kriteria, misal kolom B=1"
      ]
    },
    {
      "cell_type": "code",
      "metadata": {
        "colab": {
          "base_uri": "https://localhost:8080/",
          "height": 80
        },
        "id": "4xcK2uqciypW",
        "outputId": "f0e2b138-6c35-4833-d075-feabe9f15600"
      },
      "source": [
        "# Melihat jumlah data dalam kolom 'Usia' dengan kriteria usia 20\n",
        "data[(data['Usia']) == 20].groupby(['Usia']).size().reset_index(name='Jumlah')"
      ],
      "execution_count": null,
      "outputs": [
        {
          "output_type": "execute_result",
          "data": {
            "text/html": [
              "<div>\n",
              "<style scoped>\n",
              "    .dataframe tbody tr th:only-of-type {\n",
              "        vertical-align: middle;\n",
              "    }\n",
              "\n",
              "    .dataframe tbody tr th {\n",
              "        vertical-align: top;\n",
              "    }\n",
              "\n",
              "    .dataframe thead th {\n",
              "        text-align: right;\n",
              "    }\n",
              "</style>\n",
              "<table border=\"1\" class=\"dataframe\">\n",
              "  <thead>\n",
              "    <tr style=\"text-align: right;\">\n",
              "      <th></th>\n",
              "      <th>Usia</th>\n",
              "      <th>Jumlah</th>\n",
              "    </tr>\n",
              "  </thead>\n",
              "  <tbody>\n",
              "    <tr>\n",
              "      <th>0</th>\n",
              "      <td>20.0</td>\n",
              "      <td>4</td>\n",
              "    </tr>\n",
              "  </tbody>\n",
              "</table>\n",
              "</div>"
            ],
            "text/plain": [
              "   Usia  Jumlah\n",
              "0  20.0       4"
            ]
          },
          "metadata": {
            "tags": []
          },
          "execution_count": 27
        }
      ]
    }
  ]
}