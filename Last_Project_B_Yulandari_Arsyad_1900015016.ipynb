{
  "nbformat": 4,
  "nbformat_minor": 0,
  "metadata": {
    "colab": {
      "name": "Last Project B - Yulandari Arsyad_1900015016.ipynb",
      "provenance": [],
      "collapsed_sections": [],
      "authorship_tag": "ABX9TyPdnQiLGMT/shplhQE1L/sL",
      "include_colab_link": true
    },
    "kernelspec": {
      "name": "python3",
      "display_name": "Python 3"
    }
  },
  "cells": [
    {
      "cell_type": "markdown",
      "metadata": {
        "id": "view-in-github",
        "colab_type": "text"
      },
      "source": [
        "<a href=\"https://colab.research.google.com/github/yulandariarsyad/Pusat-Studi-Data-Sains-UAD/blob/main/Last_Project_B_Yulandari_Arsyad_1900015016.ipynb\" target=\"_parent\"><img src=\"https://colab.research.google.com/assets/colab-badge.svg\" alt=\"Open In Colab\"/></a>"
      ]
    },
    {
      "cell_type": "markdown",
      "metadata": {
        "id": "vy4WDTorzKxe"
      },
      "source": [
        "# Last Project B\r\n",
        "## Yulandari Arsyad (1900015016)\r\n",
        "\r\n",
        "\r\n",
        "---\r\n",
        "\r\n"
      ]
    },
    {
      "cell_type": "markdown",
      "metadata": {
        "id": "5vlpWHH_zZuT"
      },
      "source": [
        "### Volume Kombinasi Dua Limas dengan 2 Tinggi Yang Berbeda"
      ]
    },
    {
      "cell_type": "code",
      "metadata": {
        "colab": {
          "base_uri": "https://localhost:8080/"
        },
        "id": "WsfDzBxtwqey",
        "outputId": "eb83239d-3715-4f37-aacc-670cadbadde5"
      },
      "source": [
        "import math\r\n",
        "def volume_limas1(a,t1):\r\n",
        "  a = float(a)\r\n",
        "  t1 = float(t1)\r\n",
        "  Volume = (1/3)*a*t1\r\n",
        "  return Volume\r\n",
        "\r\n",
        "def volume_limas2(a,t2):\r\n",
        "  a = float(a)\r\n",
        "  t2 = float(t2)\r\n",
        "  Volume = (1/3)*a*t2\r\n",
        "  return Volume\r\n",
        "\r\n",
        "def volume_total(a,t1,t2): \r\n",
        "  v1 = volume_limas1(a,t1)\r\n",
        "  v2 = volume_limas2(a,t2)\r\n",
        "  Volume = v1+v2\r\n",
        "  return volume\r\n",
        "\r\n",
        "a = int(input('luas alas a: '))\r\n",
        "t1 = int(input('Nilai t1: '))\r\n",
        "t2 = int(input('Nilai t2: '))\r\n",
        "print((volume_limas1(a,t1)))\r\n",
        "print((volume_limas2(a,t2)))"
      ],
      "execution_count": 1,
      "outputs": [
        {
          "output_type": "stream",
          "text": [
            "luas alas a: 25\n",
            "Nilai t1: 10\n",
            "Nilai t2: 15\n",
            "83.33333333333331\n",
            "124.99999999999999\n"
          ],
          "name": "stdout"
        }
      ]
    }
  ]
}